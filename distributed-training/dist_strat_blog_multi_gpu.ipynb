{
  "nbformat": 4,
  "nbformat_minor": 0,
  "metadata": {
    "colab": {
      "name": "dist-strat-blog-multi-gpu.ipynb",
      "provenance": [],
      "authorship_tag": "ABX9TyM3eoV+m8+t3GfPG/c2gIYM",
      "include_colab_link": true
    },
    "kernelspec": {
      "name": "python3",
      "display_name": "Python 3"
    },
    "accelerator": "GPU"
  },
  "cells": [
    {
      "cell_type": "markdown",
      "metadata": {
        "id": "view-in-github",
        "colab_type": "text"
      },
      "source": [
        "<a href=\"https://colab.research.google.com/github/nikitamaia/tensorflow-examples/blob/main/distributed-training/dist_strat_blog_multi_gpu.ipynb\" target=\"_parent\"><img src=\"https://colab.research.google.com/assets/colab-badge.svg\" alt=\"Open In Colab\"/></a>"
      ]
    },
    {
      "cell_type": "markdown",
      "metadata": {
        "id": "2BBwL_wI1Hzb"
      },
      "source": [
        "## Train a ResNet50 model on the Cassava dataset\n",
        "\n",
        "You should utilize a GPU Runtime for this notebook:\n",
        "*Runtime > Change runtime type > Hardware accelerator: GPU*\n",
        "\n",
        "To learn more about the dataset, check out https://www.tensorflow.org/datasets/catalog/cassava\n",
        "\n",
        "This notebook is from the blog \"Getting Started With Distributed Training on GCP\"\n",
        "\n",
        "---\n",
        "\n",
        "\n",
        "\n",
        "\n",
        "\n"
      ]
    },
    {
      "cell_type": "code",
      "metadata": {
        "id": "DbDJqAMQ1KZa",
        "outputId": "9396e87d-a5ab-4e7f-975d-873e989b7a62",
        "colab": {
          "base_uri": "https://localhost:8080/"
        }
      },
      "source": [
        "import tensorflow as tf\n",
        "print(tf.__version__)\n",
        "\n",
        "import tensorflow_datasets as tfds"
      ],
      "execution_count": 1,
      "outputs": [
        {
          "output_type": "stream",
          "text": [
            "2.3.0\n"
          ],
          "name": "stdout"
        }
      ]
    },
    {
      "cell_type": "markdown",
      "metadata": {
        "id": "GqWidFAr1eMx"
      },
      "source": [
        "## Import the data from Tensorflow Datasets"
      ]
    },
    {
      "cell_type": "code",
      "metadata": {
        "id": "zATUkq1Ax4K-"
      },
      "source": [
        "data, info = tfds.load(name='cassava', as_supervised=True, with_info=True)\n",
        "NUM_CLASSES = info.features['label'].num_classes"
      ],
      "execution_count": null,
      "outputs": []
    },
    {
      "cell_type": "markdown",
      "metadata": {
        "id": "Z_6OQYu61hlw"
      },
      "source": [
        "## Set up the input pipeline using tf.data\n",
        "\n",
        "*Using tf.data is highly recommended when doing distributed training*"
      ]
    },
    {
      "cell_type": "code",
      "metadata": {
        "id": "92_K0kM31Srt"
      },
      "source": [
        "def preprocess_data(image, label):\n",
        "  image = tf.image.resize(image, (300,300))\n",
        "  return tf.cast(image, tf.float32) / 255., label"
      ],
      "execution_count": 3,
      "outputs": []
    },
    {
      "cell_type": "code",
      "metadata": {
        "id": "M-1tMSod27QL"
      },
      "source": [
        "def create_dataset(train_data, batch_size):\n",
        "  train_data = train_data.map(preprocess_data, \n",
        "                                 num_parallel_calls=tf.data.experimental.AUTOTUNE)\n",
        "  train_data  = train_data.shuffle(1000)\n",
        "  train_data  = train_data.cache().batch(batch_size)\n",
        "  train_data  = train_data.prefetch(tf.data.experimental.AUTOTUNE)\n",
        "  return train_data"
      ],
      "execution_count": 4,
      "outputs": []
    },
    {
      "cell_type": "code",
      "metadata": {
        "id": "YkSjDiwg16Qw"
      },
      "source": [
        "def create_model():\n",
        "  base_model = tf.keras.applications.ResNet50(weights='imagenet', include_top=False)\n",
        "  x = base_model.output\n",
        "  x = tf.keras.layers.GlobalAveragePooling2D()(x)\n",
        "  x = tf.keras.layers.Dense(1016, activation='relu')(x)\n",
        "  predictions = tf.keras.layers.Dense(NUM_CLASSES, activation='softmax')(x)\n",
        "  model = tf.keras.Model(inputs=base_model.input, outputs=predictions)\n",
        "  return model"
      ],
      "execution_count": 5,
      "outputs": []
    },
    {
      "cell_type": "code",
      "metadata": {
        "id": "fBwfZb4Rp7_T"
      },
      "source": [
        "# Create strategy\n",
        "strategy = tf.distribute.MirroredStrategy()"
      ],
      "execution_count": null,
      "outputs": []
    },
    {
      "cell_type": "code",
      "metadata": {
        "id": "sgonHoTh2B4v"
      },
      "source": [
        "# Wrap variable creation within strategy scope\n",
        "with strategy.scope():\n",
        "  model = create_model()\n",
        "  model.compile(\n",
        "      loss='sparse_categorical_crossentropy',\n",
        "      optimizer=tf.keras.optimizers.Adam(0.0001),\n",
        "      metrics=['accuracy'])"
      ],
      "execution_count": null,
      "outputs": []
    },
    {
      "cell_type": "code",
      "metadata": {
        "id": "bGpAuoqvwu2t"
      },
      "source": [
        "# Scale batch size by number of replicas\n",
        "BATCH_SIZE = 64 * strategy.num_replicas_in_sync"
      ],
      "execution_count": 8,
      "outputs": []
    },
    {
      "cell_type": "code",
      "metadata": {
        "id": "XVi18Bhawt9v"
      },
      "source": [
        "train_data = create_dataset(data['train'], BATCH_SIZE)"
      ],
      "execution_count": 9,
      "outputs": []
    },
    {
      "cell_type": "code",
      "metadata": {
        "id": "sodDH2u3-esp"
      },
      "source": [
        "model.fit(train_data, epochs = 5)"
      ],
      "execution_count": null,
      "outputs": []
    }
  ]
}