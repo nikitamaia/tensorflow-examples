{
  "nbformat": 4,
  "nbformat_minor": 0,
  "metadata": {
    "colab": {
      "name": "dist-strat-blog-single-gpu.ipynb",
      "provenance": [],
      "authorship_tag": "ABX9TyPXTSJP3Pw0ACgzYa0xvHkr",
      "include_colab_link": true
    },
    "kernelspec": {
      "name": "python3",
      "display_name": "Python 3"
    },
    "accelerator": "GPU"
  },
  "cells": [
    {
      "cell_type": "markdown",
      "metadata": {
        "id": "view-in-github",
        "colab_type": "text"
      },
      "source": [
        "<a href=\"https://colab.research.google.com/github/nikitamaia/tensorflow-examples/blob/main/dist_strat_blog_single_gpu.ipynb\" target=\"_parent\"><img src=\"https://colab.research.google.com/assets/colab-badge.svg\" alt=\"Open In Colab\"/></a>"
      ]
    },
    {
      "cell_type": "markdown",
      "metadata": {
        "id": "2BBwL_wI1Hzb"
      },
      "source": [
        "## Train a ResNet50 model on the Cassava dataset\n",
        "\n",
        "You should utilize a GPU Runtime for this notebook:\n",
        "*Runtime > Change runtime type > Hardware accelerator: GPU*\n",
        "\n",
        "To learn more about the dataset, check out https://www.tensorflow.org/datasets/catalog/cassava\n",
        "\n",
        "This notebook is from the blog \"Getting Started With Distributed Training on GCP\"\n",
        "\n",
        "\n",
        "\n"
      ]
    },
    {
      "cell_type": "code",
      "metadata": {
        "id": "DbDJqAMQ1KZa",
        "outputId": "dbdbe4c7-588b-4a2e-a062-b3fe02916fad",
        "colab": {
          "base_uri": "https://localhost:8080/"
        }
      },
      "source": [
        "import tensorflow as tf\n",
        "print(tf.__version__)\n",
        "\n",
        "import tensorflow_datasets as tfds"
      ],
      "execution_count": 1,
      "outputs": [
        {
          "output_type": "stream",
          "text": [
            "2.3.0\n"
          ],
          "name": "stdout"
        }
      ]
    },
    {
      "cell_type": "markdown",
      "metadata": {
        "id": "GqWidFAr1eMx"
      },
      "source": [
        "## Import the data from Tensorflow Datasets"
      ]
    },
    {
      "cell_type": "code",
      "metadata": {
        "id": "zATUkq1Ax4K-"
      },
      "source": [
        "data, info = tfds.load(name='cassava', as_supervised=True, with_info=True)\n",
        "NUM_CLASSES = info.features['label'].num_classes"
      ],
      "execution_count": 18,
      "outputs": []
    },
    {
      "cell_type": "markdown",
      "metadata": {
        "id": "Z_6OQYu61hlw"
      },
      "source": [
        "## Set up the input pipeline using tf.data\n",
        "\n",
        "*Using tf.data is highly recommended when doing distributed training*"
      ]
    },
    {
      "cell_type": "code",
      "metadata": {
        "id": "92_K0kM31Srt"
      },
      "source": [
        "def preprocess_data(image, label):\n",
        "  image = tf.image.resize(image, (300,300))\n",
        "  return tf.cast(image, tf.float32) / 255., label"
      ],
      "execution_count": 28,
      "outputs": []
    },
    {
      "cell_type": "code",
      "metadata": {
        "id": "M-1tMSod27QL"
      },
      "source": [
        "def create_dataset(train_data, batch_size):\n",
        "  train_data = train_data.map(preprocess_data, \n",
        "                                 num_parallel_calls=tf.data.experimental.AUTOTUNE)\n",
        "  train_data  = train_data.shuffle(1000)\n",
        "  train_data  = train_data.cache().batch(batch_size)\n",
        "  train_data  = train_data.prefetch(tf.data.experimental.AUTOTUNE)\n",
        "  return train_data"
      ],
      "execution_count": 30,
      "outputs": []
    },
    {
      "cell_type": "code",
      "metadata": {
        "id": "YkSjDiwg16Qw"
      },
      "source": [
        "def create_model():\n",
        "  base_model = tf.keras.applications.ResNet50(weights='imagenet', include_top=False)\n",
        "  x = base_model.output\n",
        "  x = tf.keras.layers.GlobalAveragePooling2D()(x)\n",
        "  x = tf.keras.layers.Dense(1016, activation='relu', kernel_regularizer=tf.keras.regularizers.l2(0.01))(x)\n",
        "  predictions = tf.keras.layers.Dense(NUM_CLASSES, activation='softmax')(x)\n",
        "  model = tf.keras.Model(inputs=base_model.input, outputs=predictions)\n",
        "  return model"
      ],
      "execution_count": 31,
      "outputs": []
    },
    {
      "cell_type": "code",
      "metadata": {
        "id": "sgonHoTh2B4v"
      },
      "source": [
        "model = create_model()\n",
        "model.compile(\n",
        "    loss='sparse_categorical_crossentropy',\n",
        "    optimizer=tf.keras.optimizers.Adam(0.0001),\n",
        "    metrics=['accuracy'])"
      ],
      "execution_count": 32,
      "outputs": []
    },
    {
      "cell_type": "code",
      "metadata": {
        "id": "bGpAuoqvwu2t"
      },
      "source": [
        "BATCH_SIZE = 64"
      ],
      "execution_count": 33,
      "outputs": []
    },
    {
      "cell_type": "code",
      "metadata": {
        "id": "XVi18Bhawt9v"
      },
      "source": [
        "train_data = create_dataset(data['train'], BATCH_SIZE)"
      ],
      "execution_count": 34,
      "outputs": []
    },
    {
      "cell_type": "code",
      "metadata": {
        "id": "sodDH2u3-esp",
        "outputId": "01d78adb-8815-4db1-b2f9-f96671984ffc",
        "colab": {
          "base_uri": "https://localhost:8080/"
        }
      },
      "source": [
        "model.fit(train_data, epochs = 5)"
      ],
      "execution_count": 35,
      "outputs": [
        {
          "output_type": "stream",
          "text": [
            "Epoch 1/5\n",
            " 2/89 [..............................] - ETA: 45s - loss: 15.1818 - accuracy: 0.3203WARNING:tensorflow:Callbacks method `on_train_batch_end` is slow compared to the batch time (batch time: 0.3983s vs `on_train_batch_end` time: 0.6497s). Check your callbacks.\n"
          ],
          "name": "stdout"
        },
        {
          "output_type": "stream",
          "text": [
            "WARNING:tensorflow:Callbacks method `on_train_batch_end` is slow compared to the batch time (batch time: 0.3983s vs `on_train_batch_end` time: 0.6497s). Check your callbacks.\n"
          ],
          "name": "stderr"
        },
        {
          "output_type": "stream",
          "text": [
            "89/89 [==============================] - 95s 1s/step - loss: 12.7561 - accuracy: 0.7786\n",
            "Epoch 2/5\n",
            "89/89 [==============================] - 98s 1s/step - loss: 9.3323 - accuracy: 0.9508\n",
            "Epoch 3/5\n",
            "89/89 [==============================] - 100s 1s/step - loss: 6.7346 - accuracy: 0.9821\n",
            "Epoch 4/5\n",
            "89/89 [==============================] - 102s 1s/step - loss: 4.7549 - accuracy: 0.9882\n",
            "Epoch 5/5\n",
            "89/89 [==============================] - 101s 1s/step - loss: 3.2880 - accuracy: 0.9924\n"
          ],
          "name": "stdout"
        },
        {
          "output_type": "execute_result",
          "data": {
            "text/plain": [
              "<tensorflow.python.keras.callbacks.History at 0x7fb9f008a358>"
            ]
          },
          "metadata": {
            "tags": []
          },
          "execution_count": 35
        }
      ]
    },
    {
      "cell_type": "code",
      "metadata": {
        "id": "9YOXRvU8-gdw"
      },
      "source": [
        ""
      ],
      "execution_count": null,
      "outputs": []
    }
  ]
}
