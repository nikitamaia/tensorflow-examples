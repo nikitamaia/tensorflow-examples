{
  "nbformat": 4,
  "nbformat_minor": 0,
  "metadata": {
    "colab": {
      "name": "prod_in_5_steps.ipynb",
      "provenance": [],
      "collapsed_sections": []
    },
    "kernelspec": {
      "name": "python3",
      "display_name": "Python 3"
    },
    "language_info": {
      "name": "python"
    }
  },
  "cells": [
    {
      "cell_type": "markdown",
      "source": [
        "#### Train an image classification model on the [flower photos dataset](https://www.tensorflow.org/datasets/catalog/tf_flowers). \n",
        "\n",
        "## 🌹 🌸 🌺 🌼 🌻"
      ],
      "metadata": {
        "id": "DpzBqMSpR5n1"
      }
    },
    {
      "cell_type": "markdown",
      "source": [
        "Import libraries"
      ],
      "metadata": {
        "id": "qYIFbZt1SArO"
      }
    },
    {
      "cell_type": "code",
      "execution_count": 1,
      "metadata": {
        "id": "L6VIR8opEm3S"
      },
      "outputs": [],
      "source": [
        "import tensorflow as tf\n",
        "import tensorflow_datasets as tfds\n",
        "import numpy as np"
      ]
    },
    {
      "cell_type": "markdown",
      "source": [
        "Download data from tfds"
      ],
      "metadata": {
        "id": "cWkatxsxSB7v"
      }
    },
    {
      "cell_type": "code",
      "source": [
        "data, info = tfds.load(name='tf_flowers', with_info=True)"
      ],
      "metadata": {
        "id": "Lt0u_vm2Ew7v"
      },
      "execution_count": 2,
      "outputs": []
    },
    {
      "cell_type": "code",
      "source": [
        "EPOCHS = 10\n",
        "\n",
        "NUM_CLASSES = info.features['label'].num_classes\n",
        "DATASET_SIZE = info.splits['train'].num_examples"
      ],
      "metadata": {
        "id": "_k9gmyYcoVDp"
      },
      "execution_count": 3,
      "outputs": []
    },
    {
      "cell_type": "code",
      "source": [
        "info.features['label'].names"
      ],
      "metadata": {
        "colab": {
          "base_uri": "https://localhost:8080/"
        },
        "id": "8zO0yRQHdbzw",
        "outputId": "d5c6d29e-9c93-4243-de93-1e13ad80ddea"
      },
      "execution_count": 4,
      "outputs": [
        {
          "output_type": "execute_result",
          "data": {
            "text/plain": [
              "['dandelion', 'daisy', 'tulips', 'sunflowers', 'roses']"
            ]
          },
          "metadata": {},
          "execution_count": 4
        }
      ]
    },
    {
      "cell_type": "markdown",
      "source": [
        "Create train/validation datasets"
      ],
      "metadata": {
        "id": "nzgPqrsxVyi3"
      }
    },
    {
      "cell_type": "code",
      "source": [
        "def preprocess_data(data):\n",
        "  image = tf.keras.layers.Resizing(150, 150)(data['image'])\n",
        "  return image, data['label']"
      ],
      "metadata": {
        "id": "sQG-4FgRci3h"
      },
      "execution_count": 5,
      "outputs": []
    },
    {
      "cell_type": "code",
      "source": [
        "# Create train/validation splits\n",
        "\n",
        "# Shuffle dataset\n",
        "dataset = data['train'].shuffle(1000)\n",
        "\n",
        "train_split = 0.8\n",
        "val_split = 0.2\n",
        "train_size = int(train_split * DATASET_SIZE)\n",
        "val_size = int(val_split * DATASET_SIZE)\n",
        "\n",
        "train_data = dataset.take(train_size)\n",
        "train_data = train_data.map(preprocess_data)\n",
        "train_data = train_data.batch(64)\n",
        "\n",
        "validation_data = dataset.skip(train_size)\n",
        "validation_data  = validation_data.map(preprocess_data)\n",
        "validation_data  = validation_data.batch(64)"
      ],
      "metadata": {
        "id": "-lE6TsKRVyEL"
      },
      "execution_count": 6,
      "outputs": []
    },
    {
      "cell_type": "markdown",
      "source": [
        "Define model"
      ],
      "metadata": {
        "id": "EVyGEbFJgOJx"
      }
    },
    {
      "cell_type": "code",
      "source": [
        "inputs = tf.keras.Input(shape=(150, 150, 3))\n",
        "x = tf.keras.layers.Rescaling(1./255)(inputs)\n",
        "x = tf.keras.layers.Conv2D(16, 3, padding='same', activation='relu')(x)\n",
        "x = tf.keras.layers.MaxPooling2D()(x)\n",
        "x = tf.keras.layers.Conv2D(32, 3, padding='same', activation='relu')(x)\n",
        "x = tf.keras.layers.MaxPooling2D()(x)\n",
        "x = tf.keras.layers.Conv2D(64, 3, padding='same', activation='relu')(x)\n",
        "x = tf.keras.layers.MaxPooling2D()(x)\n",
        "x = tf.keras.layers.Flatten()(x)\n",
        "x = tf.keras.layers.Dense(128, activation='relu')(x)\n",
        "outputs = tf.keras.layers.Dense(NUM_CLASSES, activation = 'softmax')(x)\n",
        "model = tf.keras.Model(inputs=inputs, outputs=outputs)"
      ],
      "metadata": {
        "id": "AXKu8r1HXO3n"
      },
      "execution_count": 8,
      "outputs": []
    },
    {
      "cell_type": "markdown",
      "source": [
        "Compile and fit model"
      ],
      "metadata": {
        "id": "J-kQGi_sgRbp"
      }
    },
    {
      "cell_type": "code",
      "source": [
        "model.compile(optimizer=tf.keras.optimizers.Adam(),\n",
        "              loss=tf.keras.losses.SparseCategoricalCrossentropy(),\n",
        "              metrics=['accuracy'])"
      ],
      "metadata": {
        "id": "gTgpaw_fZCyS"
      },
      "execution_count": 9,
      "outputs": []
    },
    {
      "cell_type": "code",
      "source": [
        "model.fit(train_data, validation_data = validation_data, epochs = EPOCHS)"
      ],
      "metadata": {
        "id": "SYFgFXwuZVEW",
        "colab": {
          "base_uri": "https://localhost:8080/"
        },
        "outputId": "70dccef5-0021-4bb2-c42b-ef3044225ba1"
      },
      "execution_count": 11,
      "outputs": [
        {
          "output_type": "stream",
          "name": "stdout",
          "text": [
            "Epoch 1/10\n",
            "46/46 [==============================] - 46s 994ms/step - loss: 0.8583 - accuracy: 0.6747 - val_loss: 0.7369 - val_accuracy: 0.7330\n",
            "Epoch 2/10\n",
            "46/46 [==============================] - 46s 994ms/step - loss: 0.7228 - accuracy: 0.7207 - val_loss: 0.7231 - val_accuracy: 0.7357\n",
            "Epoch 3/10\n",
            "46/46 [==============================] - 46s 993ms/step - loss: 0.6315 - accuracy: 0.7626 - val_loss: 0.5425 - val_accuracy: 0.8052\n",
            "Epoch 4/10\n",
            "46/46 [==============================] - 46s 1s/step - loss: 0.5136 - accuracy: 0.8103 - val_loss: 0.4889 - val_accuracy: 0.8297\n",
            "Epoch 5/10\n",
            "46/46 [==============================] - 46s 997ms/step - loss: 0.3830 - accuracy: 0.8723 - val_loss: 0.4196 - val_accuracy: 0.8610\n",
            "Epoch 6/10\n",
            "46/46 [==============================] - 46s 1s/step - loss: 0.3035 - accuracy: 0.8931 - val_loss: 0.4069 - val_accuracy: 0.8624\n",
            "Epoch 7/10\n",
            "46/46 [==============================] - 46s 1s/step - loss: 0.2245 - accuracy: 0.9339 - val_loss: 0.2716 - val_accuracy: 0.9251\n",
            "Epoch 8/10\n",
            "46/46 [==============================] - 46s 1s/step - loss: 0.1427 - accuracy: 0.9612 - val_loss: 0.2067 - val_accuracy: 0.9373\n",
            "Epoch 9/10\n",
            "46/46 [==============================] - 46s 1s/step - loss: 0.1180 - accuracy: 0.9656 - val_loss: 0.1697 - val_accuracy: 0.9455\n",
            "Epoch 10/10\n",
            "46/46 [==============================] - 46s 1s/step - loss: 0.1013 - accuracy: 0.9734 - val_loss: 0.3248 - val_accuracy: 0.8978\n"
          ]
        },
        {
          "output_type": "execute_result",
          "data": {
            "text/plain": [
              "<keras.callbacks.History at 0x7f11ffe092d0>"
            ]
          },
          "metadata": {},
          "execution_count": 11
        }
      ]
    },
    {
      "cell_type": "markdown",
      "source": [
        "Save model"
      ],
      "metadata": {
        "id": "XcA88f5EgTMe"
      }
    },
    {
      "cell_type": "code",
      "source": [
        "model.save('model_output')"
      ],
      "metadata": {
        "id": "X8Z0fMsdneA4"
      },
      "execution_count": null,
      "outputs": []
    }
  ]
}